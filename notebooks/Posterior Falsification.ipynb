{
 "cells": [
  {
   "cell_type": "markdown",
   "metadata": {},
   "source": [
    "### Import Packages"
   ]
  },
  {
   "cell_type": "code",
   "execution_count": 1,
   "metadata": {},
   "outputs": [],
   "source": [
    "import matplotlib.pyplot as plt\n",
    "import numpy as np\n",
    "\n",
    "import pygimli as pg\n",
    "import pygimli.meshtools as mt\n",
    "import pygimli.physics.ert as ert\n",
    "\n",
    "import os, os.path\n",
    "from sklearn.decomposition import PCA\n",
    "from sklearn.linear_model import LinearRegression\n",
    "from sklearn.ensemble import RandomForestRegressor\n",
    "from scipy.stats import multivariate_normal\n",
    "import scipy as sp\n",
    "import scipy.stats as st\n",
    "from scipy import interpolate\n",
    "\n",
    "import sys\n",
    "sys.path.append(\"..\")\n",
    "from ERTsim import PHert\n",
    "\n",
    "import pickle as pkl\n",
    "\n",
    "\n",
    "import pandas as pd"
   ]
  },
  {
   "cell_type": "markdown",
   "metadata": {},
   "source": [
    "### Define Functions for Later"
   ]
  },
  {
   "cell_type": "code",
   "execution_count": 2,
   "metadata": {},
   "outputs": [],
   "source": [
    "def sample_data(N,dmean,dstd):\n",
    "    D_N = np.zeros((N,dmean.shape[0]))\n",
    "    for i in range(dmean.shape[0]):\n",
    "        D_N[:,i] = np.random.normal(dmean[i], dstd[i], N)\n",
    "    return D_N\n",
    "        \n",
    "def train_reg(dtrain, vtrain):\n",
    "    return RandomForestRegressor().fit(dtrain, vtrain)\n",
    "\n",
    "def sample_posterior(reg, dtest, vtest_true, D_N, W):\n",
    "    vtest_pred = reg.predict(dtest)\n",
    "    vmeas_pred = reg.predict(D_N)\n",
    "\n",
    "    postsamples = np.zeros(D_N.shape[0])\n",
    "    for i in range(D_N.shape[0]):\n",
    "        INDS = np.where(np.logical_and(vtest_pred>=vmeas_pred[i]-W, vtest_pred<=vmeas_pred[i]+W))\n",
    "        csamples = vtest_true[INDS]\n",
    "        try:\n",
    "            sample_ind = np.random.choice(csamples.shape[0], 1)\n",
    "            postsamples[i] = csamples[sample_ind]\n",
    "        except:\n",
    "            pass\n",
    "        \n",
    "        \n",
    "    return postsamples\n",
    "\n",
    "def compute_post_quantile(postsamples, truth):\n",
    "    num_smaller = sum(postsamples <= truth)\n",
    "    quantile = num_smaller / postsamples.shape[0]\n",
    "    return quantile\n",
    "    "
   ]
  },
  {
   "cell_type": "markdown",
   "metadata": {},
   "source": [
    "# Import Measured Data (For Plotting Purposes Only)"
   ]
  },
  {
   "cell_type": "code",
   "execution_count": 3,
   "metadata": {},
   "outputs": [],
   "source": [
    "sfile = '../data/PH-2018-srv.txt'\n",
    "efile = '../data/PH-2018-eloc.txt'\n",
    "srv = pd.read_csv(sfile,sep='\\t',header=None)\n",
    "elec = pd.read_csv(efile,sep='\\t',header=None)\n",
    "\n",
    "M = (elec.values[srv.values[:,2][:].astype(int)-1,1]+elec.values[srv.values[:,4][:].astype(int)-1,1])/2\n",
    "C = (elec.values[srv.values[:,1][:].astype(int)-1,3]+elec.values[srv.values[:,3][:].astype(int)-1,3])/2 - (elec.values[srv.values[:,4][:].astype(int)-1,1]-elec.values[srv.values[:,2][:].astype(int)-1,1])/2\n",
    "\n"
   ]
  },
  {
   "cell_type": "markdown",
   "metadata": {},
   "source": [
    "# Import Monte Carlo Data (Train/Test and Validation Sets)"
   ]
  },
  {
   "cell_type": "code",
   "execution_count": 4,
   "metadata": {},
   "outputs": [],
   "source": [
    "valfolder = '../data/val/' #Validation set (x1000)\n",
    "MCfolder = '../data/MC3/' #Train/test set (x2000)\n",
    "rows = 11 #Number of header rows"
   ]
  },
  {
   "cell_type": "markdown",
   "metadata": {},
   "source": [
    "### Train/Test Set"
   ]
  },
  {
   "cell_type": "code",
   "execution_count": 5,
   "metadata": {},
   "outputs": [],
   "source": [
    "pfile = MCfolder + 'params.dat'\n",
    "\n",
    "files = [name for name in os.listdir(MCfolder) if (os.path.isfile(MCfolder+name) and (name != \"params.dat\"))]\n",
    "Nreal = len(files)"
   ]
  },
  {
   "cell_type": "code",
   "execution_count": 6,
   "metadata": {},
   "outputs": [],
   "source": [
    "D = np.zeros((Nreal,15371))\n",
    "inds = np.zeros(Nreal,dtype=int)\n",
    "i = 0\n",
    "for f in files:\n",
    "    data = ert.ERTManager(MCfolder+f).data\n",
    "    R = np.array([data('r')[i] for i in range(data('r').size())])\n",
    "    D[i,:] = R\n",
    "    f2 = f.split('_')[1]\n",
    "    inds[i] = np.int(f2.split('.')[0])\n",
    "    i = i+1\n"
   ]
  },
  {
   "cell_type": "code",
   "execution_count": 7,
   "metadata": {},
   "outputs": [
    {
     "data": {
      "text/html": [
       "<div>\n",
       "<style scoped>\n",
       "    .dataframe tbody tr th:only-of-type {\n",
       "        vertical-align: middle;\n",
       "    }\n",
       "\n",
       "    .dataframe tbody tr th {\n",
       "        vertical-align: top;\n",
       "    }\n",
       "\n",
       "    .dataframe thead th {\n",
       "        text-align: right;\n",
       "    }\n",
       "</style>\n",
       "<table border=\"1\" class=\"dataframe\">\n",
       "  <thead>\n",
       "    <tr style=\"text-align: right;\">\n",
       "      <th></th>\n",
       "      <th>dip</th>\n",
       "      <th>H</th>\n",
       "      <th>xpos</th>\n",
       "      <th>rho_fault</th>\n",
       "      <th>rho_back</th>\n",
       "    </tr>\n",
       "  </thead>\n",
       "  <tbody>\n",
       "    <tr>\n",
       "      <th>0</th>\n",
       "      <td>101.833891</td>\n",
       "      <td>115.800812</td>\n",
       "      <td>412.011373</td>\n",
       "      <td>29.642176</td>\n",
       "      <td>49.316446</td>\n",
       "    </tr>\n",
       "    <tr>\n",
       "      <th>1</th>\n",
       "      <td>125.126511</td>\n",
       "      <td>174.696599</td>\n",
       "      <td>484.424341</td>\n",
       "      <td>27.897438</td>\n",
       "      <td>229.946475</td>\n",
       "    </tr>\n",
       "    <tr>\n",
       "      <th>2</th>\n",
       "      <td>109.386873</td>\n",
       "      <td>53.786238</td>\n",
       "      <td>456.523421</td>\n",
       "      <td>42.869513</td>\n",
       "      <td>72.535312</td>\n",
       "    </tr>\n",
       "    <tr>\n",
       "      <th>3</th>\n",
       "      <td>101.283646</td>\n",
       "      <td>126.145778</td>\n",
       "      <td>460.279214</td>\n",
       "      <td>26.864429</td>\n",
       "      <td>58.730871</td>\n",
       "    </tr>\n",
       "    <tr>\n",
       "      <th>4</th>\n",
       "      <td>84.311672</td>\n",
       "      <td>56.621057</td>\n",
       "      <td>432.695884</td>\n",
       "      <td>25.424708</td>\n",
       "      <td>68.864551</td>\n",
       "    </tr>\n",
       "    <tr>\n",
       "      <th>...</th>\n",
       "      <td>...</td>\n",
       "      <td>...</td>\n",
       "      <td>...</td>\n",
       "      <td>...</td>\n",
       "      <td>...</td>\n",
       "    </tr>\n",
       "    <tr>\n",
       "      <th>1995</th>\n",
       "      <td>135.779417</td>\n",
       "      <td>144.507231</td>\n",
       "      <td>406.534273</td>\n",
       "      <td>24.860789</td>\n",
       "      <td>84.199023</td>\n",
       "    </tr>\n",
       "    <tr>\n",
       "      <th>1996</th>\n",
       "      <td>125.967736</td>\n",
       "      <td>96.671548</td>\n",
       "      <td>375.001311</td>\n",
       "      <td>31.356123</td>\n",
       "      <td>81.066461</td>\n",
       "    </tr>\n",
       "    <tr>\n",
       "      <th>1997</th>\n",
       "      <td>92.215093</td>\n",
       "      <td>145.760068</td>\n",
       "      <td>370.331503</td>\n",
       "      <td>30.884901</td>\n",
       "      <td>85.394349</td>\n",
       "    </tr>\n",
       "    <tr>\n",
       "      <th>1998</th>\n",
       "      <td>115.140965</td>\n",
       "      <td>47.364446</td>\n",
       "      <td>405.448911</td>\n",
       "      <td>26.081312</td>\n",
       "      <td>205.104687</td>\n",
       "    </tr>\n",
       "    <tr>\n",
       "      <th>1999</th>\n",
       "      <td>95.248238</td>\n",
       "      <td>150.043984</td>\n",
       "      <td>357.622023</td>\n",
       "      <td>29.885349</td>\n",
       "      <td>164.586534</td>\n",
       "    </tr>\n",
       "  </tbody>\n",
       "</table>\n",
       "<p>2000 rows × 5 columns</p>\n",
       "</div>"
      ],
      "text/plain": [
       "             dip           H        xpos   rho_fault    rho_back\n",
       "0     101.833891  115.800812  412.011373   29.642176   49.316446\n",
       "1     125.126511  174.696599  484.424341   27.897438  229.946475\n",
       "2     109.386873   53.786238  456.523421   42.869513   72.535312\n",
       "3     101.283646  126.145778  460.279214   26.864429   58.730871\n",
       "4      84.311672   56.621057  432.695884   25.424708   68.864551\n",
       "...          ...         ...         ...         ...         ...\n",
       "1995  135.779417  144.507231  406.534273   24.860789   84.199023\n",
       "1996  125.967736   96.671548  375.001311   31.356123   81.066461\n",
       "1997   92.215093  145.760068  370.331503   30.884901   85.394349\n",
       "1998  115.140965   47.364446  405.448911   26.081312  205.104687\n",
       "1999   95.248238  150.043984  357.622023   29.885349  164.586534\n",
       "\n",
       "[2000 rows x 5 columns]"
      ]
     },
     "execution_count": 7,
     "metadata": {},
     "output_type": "execute_result"
    }
   ],
   "source": [
    "fullinput = pd.read_csv(pfile,skiprows=rows)\n",
    "inputs = fullinput.values[inds,:]\n",
    "fullinput"
   ]
  },
  {
   "cell_type": "markdown",
   "metadata": {},
   "source": [
    "### Validation Set"
   ]
  },
  {
   "cell_type": "code",
   "execution_count": 8,
   "metadata": {},
   "outputs": [],
   "source": [
    "pfile_val = valfolder + 'params.dat'\n",
    "\n",
    "files_val = [name for name in os.listdir(valfolder) if (os.path.isfile(valfolder+name) and (name != \"params.dat\"))]\n",
    "Nreal_val = len(files_val)"
   ]
  },
  {
   "cell_type": "code",
   "execution_count": 9,
   "metadata": {},
   "outputs": [],
   "source": [
    "D_val = np.zeros((Nreal_val,15371))\n",
    "inds_val = np.zeros(Nreal_val,dtype=int)\n",
    "i = 0\n",
    "for f in files_val:\n",
    "    data = ert.ERTManager(valfolder+f).data\n",
    "    R = np.array([data('r')[i] for i in range(data('r').size())])\n",
    "    D_val[i,:] = R\n",
    "    f2 = f.split('_')[1]\n",
    "    inds_val[i] = np.int(f2.split('.')[0])\n",
    "    i = i+1"
   ]
  },
  {
   "cell_type": "code",
   "execution_count": 10,
   "metadata": {},
   "outputs": [
    {
     "data": {
      "text/html": [
       "<div>\n",
       "<style scoped>\n",
       "    .dataframe tbody tr th:only-of-type {\n",
       "        vertical-align: middle;\n",
       "    }\n",
       "\n",
       "    .dataframe tbody tr th {\n",
       "        vertical-align: top;\n",
       "    }\n",
       "\n",
       "    .dataframe thead th {\n",
       "        text-align: right;\n",
       "    }\n",
       "</style>\n",
       "<table border=\"1\" class=\"dataframe\">\n",
       "  <thead>\n",
       "    <tr style=\"text-align: right;\">\n",
       "      <th></th>\n",
       "      <th>dip</th>\n",
       "      <th>H</th>\n",
       "      <th>xpos</th>\n",
       "      <th>rho_fault</th>\n",
       "      <th>rho_back</th>\n",
       "    </tr>\n",
       "  </thead>\n",
       "  <tbody>\n",
       "    <tr>\n",
       "      <th>0</th>\n",
       "      <td>101.833891</td>\n",
       "      <td>115.932109</td>\n",
       "      <td>440.053241</td>\n",
       "      <td>25.921461</td>\n",
       "      <td>81.732329</td>\n",
       "    </tr>\n",
       "    <tr>\n",
       "      <th>1</th>\n",
       "      <td>125.126511</td>\n",
       "      <td>120.771175</td>\n",
       "      <td>423.888500</td>\n",
       "      <td>25.625185</td>\n",
       "      <td>85.709724</td>\n",
       "    </tr>\n",
       "    <tr>\n",
       "      <th>2</th>\n",
       "      <td>109.386873</td>\n",
       "      <td>193.983650</td>\n",
       "      <td>367.388974</td>\n",
       "      <td>26.248977</td>\n",
       "      <td>100.554072</td>\n",
       "    </tr>\n",
       "    <tr>\n",
       "      <th>3</th>\n",
       "      <td>101.283646</td>\n",
       "      <td>111.433334</td>\n",
       "      <td>472.048560</td>\n",
       "      <td>34.268329</td>\n",
       "      <td>112.545691</td>\n",
       "    </tr>\n",
       "    <tr>\n",
       "      <th>4</th>\n",
       "      <td>84.311672</td>\n",
       "      <td>100.039334</td>\n",
       "      <td>408.609619</td>\n",
       "      <td>36.421841</td>\n",
       "      <td>65.356405</td>\n",
       "    </tr>\n",
       "    <tr>\n",
       "      <th>...</th>\n",
       "      <td>...</td>\n",
       "      <td>...</td>\n",
       "      <td>...</td>\n",
       "      <td>...</td>\n",
       "      <td>...</td>\n",
       "    </tr>\n",
       "    <tr>\n",
       "      <th>995</th>\n",
       "      <td>38.674691</td>\n",
       "      <td>119.613711</td>\n",
       "      <td>378.916336</td>\n",
       "      <td>43.412423</td>\n",
       "      <td>107.754837</td>\n",
       "    </tr>\n",
       "    <tr>\n",
       "      <th>996</th>\n",
       "      <td>97.089108</td>\n",
       "      <td>48.113415</td>\n",
       "      <td>378.549194</td>\n",
       "      <td>28.696714</td>\n",
       "      <td>71.216461</td>\n",
       "    </tr>\n",
       "    <tr>\n",
       "      <th>997</th>\n",
       "      <td>156.377683</td>\n",
       "      <td>87.909873</td>\n",
       "      <td>448.393489</td>\n",
       "      <td>30.482685</td>\n",
       "      <td>48.328792</td>\n",
       "    </tr>\n",
       "    <tr>\n",
       "      <th>998</th>\n",
       "      <td>57.010517</td>\n",
       "      <td>127.728542</td>\n",
       "      <td>354.936423</td>\n",
       "      <td>26.349365</td>\n",
       "      <td>47.003912</td>\n",
       "    </tr>\n",
       "    <tr>\n",
       "      <th>999</th>\n",
       "      <td>119.799760</td>\n",
       "      <td>171.893684</td>\n",
       "      <td>361.847823</td>\n",
       "      <td>26.271370</td>\n",
       "      <td>163.782094</td>\n",
       "    </tr>\n",
       "  </tbody>\n",
       "</table>\n",
       "<p>1000 rows × 5 columns</p>\n",
       "</div>"
      ],
      "text/plain": [
       "            dip           H        xpos   rho_fault    rho_back\n",
       "0    101.833891  115.932109  440.053241   25.921461   81.732329\n",
       "1    125.126511  120.771175  423.888500   25.625185   85.709724\n",
       "2    109.386873  193.983650  367.388974   26.248977  100.554072\n",
       "3    101.283646  111.433334  472.048560   34.268329  112.545691\n",
       "4     84.311672  100.039334  408.609619   36.421841   65.356405\n",
       "..          ...         ...         ...         ...         ...\n",
       "995   38.674691  119.613711  378.916336   43.412423  107.754837\n",
       "996   97.089108   48.113415  378.549194   28.696714   71.216461\n",
       "997  156.377683   87.909873  448.393489   30.482685   48.328792\n",
       "998   57.010517  127.728542  354.936423   26.349365   47.003912\n",
       "999  119.799760  171.893684  361.847823   26.271370  163.782094\n",
       "\n",
       "[1000 rows x 5 columns]"
      ]
     },
     "execution_count": 10,
     "metadata": {},
     "output_type": "execute_result"
    }
   ],
   "source": [
    "fullinput = pd.read_csv(pfile_val,skiprows=rows)\n",
    "inputs_val = fullinput.values[inds_val,:]\n",
    "fullinput"
   ]
  },
  {
   "cell_type": "markdown",
   "metadata": {},
   "source": [
    "# Add Noise to Monte Carlo Data (Train/Test Sets Only, for Now)"
   ]
  },
  {
   "cell_type": "code",
   "execution_count": 11,
   "metadata": {},
   "outputs": [],
   "source": [
    "itrain = np.int(np.round(.5 * D.shape[0]))\n",
    "\n",
    "DNew = np.zeros(D.shape)\n",
    "for i in range(D.shape[0]):\n",
    "    DNew[i,:] = sample_data(1,D[i,:],srv.values[:,6])\n",
    "    \n",
    "dmean = np.mean(DNew[:itrain,:],axis=0)\n",
    "dstd = np.std(DNew[:itrain,:],axis=0)\n",
    "DNew = (DNew-dmean)/dstd\n"
   ]
  },
  {
   "cell_type": "markdown",
   "metadata": {},
   "source": [
    "# Train Random Forest Regression Inverse Models"
   ]
  },
  {
   "cell_type": "code",
   "execution_count": 12,
   "metadata": {},
   "outputs": [],
   "source": [
    "mfile = 'models_NormNoise.pkl'\n",
    "try:\n",
    "    models = pkl.load(open( mfile, \"rb\" ))\n",
    "except:    \n",
    "    models = [None]*5\n",
    "    for i in range(5):\n",
    "        print('Training '+str(i+1)+' of 5')\n",
    "        models[i] = train_reg(DNew[:itrain,:],inputs[:itrain,i])\n",
    "\n",
    "    pkl.dump(models,open(mfile, \"wb\" ))"
   ]
  },
  {
   "cell_type": "markdown",
   "metadata": {},
   "source": [
    "# For Each Realization in the Validation Set, Calculate the alpha-quantile"
   ]
  },
  {
   "cell_type": "code",
   "execution_count": 13,
   "metadata": {
    "scrolled": true
   },
   "outputs": [],
   "source": [
    "N = 10000\n",
    "Ws = (2.5, 5, 5, 5, 10)\n",
    "\n",
    "ntruths = D_val.shape[0]\n",
    "# ntruths = 50\n",
    "try:\n",
    "    quantiles = pkl.load(open('quantiles_NormNoise.pkl',\"rb\"))\n",
    "except:\n",
    "    quantiles = np.ones((ntruths,5))*np.nan\n",
    "    for i in range(ntruths):\n",
    "        print('Sampling '+str(i+1)+' of '+str(ntruths))\n",
    "        D_mean_true = D_val[i,:]\n",
    "        D_sigma_true = srv.values[:,6]\n",
    "#         D_N = sample_data(N, D_val[i,:],srv.values[:,6])\n",
    "        D_N = (sample_data(N, D_mean_true, D_sigma_true) - dmean)/dstd\n",
    "\n",
    "        for j in range(5):\n",
    "            postsamples = sample_posterior(models[j], DNew[itrain+1:,:], inputs[itrain+1:,j], D_N, Ws[j])\n",
    "            quantiles[i,j] = compute_post_quantile(postsamples, inputs_val[i,j])\n",
    "\n",
    "    pkl.dump(quantiles,open('quantiles_NormNoise.pkl', \"wb\"))"
   ]
  },
  {
   "cell_type": "markdown",
   "metadata": {},
   "source": [
    "# Plot alpha-quantile distributions"
   ]
  },
  {
   "cell_type": "code",
   "execution_count": 14,
   "metadata": {},
   "outputs": [
    {
     "name": "stderr",
     "output_type": "stream",
     "text": [
      "/home/ammilten/anaconda3/envs/pg/lib/python3.7/site-packages/ipykernel_launcher.py:19: MatplotlibDeprecationWarning: Adding an axes using the same arguments as a previous axes currently reuses the earlier instance.  In a future version, a new instance will always be created and returned.  Meanwhile, this warning can be suppressed, and the future behavior ensured, by passing a unique label to each axes instance.\n"
     ]
    },
    {
     "data": {
      "image/png": "[encoded data removed]",
      "text/plain": [
       "<Figure size 425.088x963.9 with 5 Axes>"
      ]
     },
     "metadata": {
      "needs_background": "light"
     },
     "output_type": "display_data"
    }
   ],
   "source": [
    "U = st.uniform(loc=0, scale=1)\n",
    "Ux = np.linspace(-.1,1.1, 1000)\n",
    "Up = U.pdf(Ux)\n",
    "\n",
    "fig, axs = plt.subplots(nrows=5, ncols=1, figsize=((6*1.23)*.8,(15*1.05)*.85))\n",
    "for i in range(5):\n",
    "    plt.subplot(511+i)\n",
    "    plt.hist(quantiles[:,i],density=True,facecolor=(.25,.75,.25),edgecolor='k',label='Observed')\n",
    "    plt.plot(Ux,Up,'-',color=(.25,.25,.25),linewidth=3,label='Theoretical')\n",
    "    plt.title(fullinput.columns[i],fontsize=18)\n",
    "    plt.xticks(fontsize=14)\n",
    "    plt.yticks(fontsize=14)\n",
    "\n",
    "    \n",
    "    \n",
    "# plt.subplot(511)\n",
    "# plt.legend()\n",
    "\n",
    "plt.subplot(515)\n",
    "plt.ylabel('Probability Density',fontsize=16)\n",
    "plt.xlabel(r'$\\alpha$',fontsize=16)\n",
    "fig.tight_layout()"
   ]
  },
  {
   "cell_type": "code",
   "execution_count": 15,
   "metadata": {},
   "outputs": [
    {
     "name": "stderr",
     "output_type": "stream",
     "text": [
      "/home/ammilten/anaconda3/envs/pg/lib/python3.7/site-packages/ipykernel_launcher.py:14: MatplotlibDeprecationWarning: Adding an axes using the same arguments as a previous axes currently reuses the earlier instance.  In a future version, a new instance will always be created and returned.  Meanwhile, this warning can be suppressed, and the future behavior ensured, by passing a unique label to each axes instance.\n",
      "  \n",
      "/home/ammilten/anaconda3/envs/pg/lib/python3.7/site-packages/ipykernel_launcher.py:17: MatplotlibDeprecationWarning: Adding an axes using the same arguments as a previous axes currently reuses the earlier instance.  In a future version, a new instance will always be created and returned.  Meanwhile, this warning can be suppressed, and the future behavior ensured, by passing a unique label to each axes instance.\n"
     ]
    },
    {
     "data": {
      "image/png": "[encoded data removed]",
      "text/plain": [
       "<Figure size 425.088x963.9 with 5 Axes>"
      ]
     },
     "metadata": {
      "needs_background": "light"
     },
     "output_type": "display_data"
    }
   ],
   "source": [
    "th = np.linspace(0,1,quantiles.shape[0])\n",
    "fig, axs = plt.subplots(nrows=5, ncols=1, figsize=((6*1.23)*.8,(15*1.05)*.85))\n",
    "for i in range(5):\n",
    "    qs = np.sort(quantiles[:,i])\n",
    "    plt.subplot(511+i)\n",
    "    plt.plot(th,th,'--k',linewidth=5,label='Ideal')\n",
    "    plt.plot(qs,th,color=(.25,.75,.25),linewidth=5,label='Observed')\n",
    "    plt.title(fullinput.columns[i],fontsize=18)\n",
    "    plt.xticks(fontsize=14)\n",
    "    plt.yticks(fontsize=14)\n",
    "\n",
    "    \n",
    "    \n",
    "plt.subplot(511)\n",
    "plt.legend()\n",
    "\n",
    "plt.subplot(515)\n",
    "plt.ylabel('Cumulative Density',fontsize=16)\n",
    "plt.xlabel(r'$\\alpha$',fontsize=16)\n",
    "fig.tight_layout()"
   ]
  },
  {
   "cell_type": "code",
   "execution_count": null,
   "metadata": {},
   "outputs": [],
   "source": []
  }
 ],
 "metadata": {
  "kernelspec": {
   "display_name": "Python (pg)",
   "language": "python",
   "name": "pg"
  },
  "language_info": {
   "codemirror_mode": {
    "name": "ipython",
    "version": 3
   },
   "file_extension": ".py",
   "mimetype": "text/x-python",
   "name": "python",
   "nbconvert_exporter": "python",
   "pygments_lexer": "ipython3",
   "version": "3.7.6"
  }
 },
 "nbformat": 4,
 "nbformat_minor": 4
}
